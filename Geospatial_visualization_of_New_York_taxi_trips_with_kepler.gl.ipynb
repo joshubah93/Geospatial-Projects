{
 "cells": [
  {
   "cell_type": "markdown",
   "id": "d049638d",
   "metadata": {},
   "source": [
    "## In this project, we are going to visualize taxi trips data in New York using kepler.gl"
   ]
  },
  {
   "cell_type": "code",
   "execution_count": 1,
   "id": "568c4e9e",
   "metadata": {},
   "outputs": [
    {
     "name": "stdout",
     "output_type": "stream",
     "text": [
      "Requirement already satisfied: keplergl in c:\\users\\chuka\\onedrive\\documents\\anaconda2\\lib\\site-packages (0.3.2)\n",
      "Requirement already satisfied: ipywidgets<8,>=7.0.0 in c:\\users\\chuka\\onedrive\\documents\\anaconda2\\lib\\site-packages (from keplergl) (7.6.5)\n",
      "Requirement already satisfied: pandas>=0.23.0 in c:\\users\\chuka\\onedrive\\documents\\anaconda2\\lib\\site-packages (from keplergl) (1.4.4)\n",
      "Requirement already satisfied: Shapely>=1.6.4.post2 in c:\\users\\chuka\\onedrive\\documents\\anaconda2\\lib\\site-packages (from keplergl) (1.8.4)\n",
      "Requirement already satisfied: traittypes>=0.2.1 in c:\\users\\chuka\\onedrive\\documents\\anaconda2\\lib\\site-packages (from keplergl) (0.2.1)\n",
      "Requirement already satisfied: geopandas>=0.5.0 in c:\\users\\chuka\\onedrive\\documents\\anaconda2\\lib\\site-packages (from keplergl) (0.9.0)\n",
      "Requirement already satisfied: pyproj>=2.2.0 in c:\\users\\chuka\\onedrive\\documents\\anaconda2\\lib\\site-packages (from geopandas>=0.5.0->keplergl) (2.6.1.post1)\n",
      "Requirement already satisfied: fiona>=1.8 in c:\\users\\chuka\\onedrive\\documents\\anaconda2\\lib\\site-packages (from geopandas>=0.5.0->keplergl) (1.8.13.post1)\n",
      "Requirement already satisfied: ipython-genutils~=0.2.0 in c:\\users\\chuka\\onedrive\\documents\\anaconda2\\lib\\site-packages (from ipywidgets<8,>=7.0.0->keplergl) (0.2.0)\n",
      "Requirement already satisfied: jupyterlab-widgets>=1.0.0 in c:\\users\\chuka\\onedrive\\documents\\anaconda2\\lib\\site-packages (from ipywidgets<8,>=7.0.0->keplergl) (1.0.0)\n",
      "Requirement already satisfied: nbformat>=4.2.0 in c:\\users\\chuka\\onedrive\\documents\\anaconda2\\lib\\site-packages (from ipywidgets<8,>=7.0.0->keplergl) (5.5.0)\n",
      "Requirement already satisfied: traitlets>=4.3.1 in c:\\users\\chuka\\onedrive\\documents\\anaconda2\\lib\\site-packages (from ipywidgets<8,>=7.0.0->keplergl) (5.1.1)\n",
      "Requirement already satisfied: widgetsnbextension~=3.5.0 in c:\\users\\chuka\\onedrive\\documents\\anaconda2\\lib\\site-packages (from ipywidgets<8,>=7.0.0->keplergl) (3.5.2)\n",
      "Requirement already satisfied: ipykernel>=4.5.1 in c:\\users\\chuka\\onedrive\\documents\\anaconda2\\lib\\site-packages (from ipywidgets<8,>=7.0.0->keplergl) (6.15.2)\n",
      "Requirement already satisfied: ipython>=4.0.0 in c:\\users\\chuka\\onedrive\\documents\\anaconda2\\lib\\site-packages (from ipywidgets<8,>=7.0.0->keplergl) (7.31.1)\n",
      "Requirement already satisfied: numpy>=1.18.5 in c:\\users\\chuka\\onedrive\\documents\\anaconda2\\lib\\site-packages (from pandas>=0.23.0->keplergl) (1.21.5)\n",
      "Requirement already satisfied: pytz>=2020.1 in c:\\users\\chuka\\onedrive\\documents\\anaconda2\\lib\\site-packages (from pandas>=0.23.0->keplergl) (2022.1)\n",
      "Requirement already satisfied: python-dateutil>=2.8.1 in c:\\users\\chuka\\onedrive\\documents\\anaconda2\\lib\\site-packages (from pandas>=0.23.0->keplergl) (2.8.2)\n",
      "Requirement already satisfied: attrs>=17 in c:\\users\\chuka\\onedrive\\documents\\anaconda2\\lib\\site-packages (from fiona>=1.8->geopandas>=0.5.0->keplergl) (21.4.0)\n",
      "Requirement already satisfied: click<8,>=4.0 in c:\\users\\chuka\\onedrive\\documents\\anaconda2\\lib\\site-packages (from fiona>=1.8->geopandas>=0.5.0->keplergl) (7.1.2)\n",
      "Requirement already satisfied: cligj>=0.5 in c:\\users\\chuka\\onedrive\\documents\\anaconda2\\lib\\site-packages (from fiona>=1.8->geopandas>=0.5.0->keplergl) (0.7.2)\n",
      "Requirement already satisfied: click-plugins>=1.0 in c:\\users\\chuka\\onedrive\\documents\\anaconda2\\lib\\site-packages (from fiona>=1.8->geopandas>=0.5.0->keplergl) (1.1.1)\n",
      "Requirement already satisfied: six>=1.7 in c:\\users\\chuka\\onedrive\\documents\\anaconda2\\lib\\site-packages (from fiona>=1.8->geopandas>=0.5.0->keplergl) (1.16.0)\n",
      "Requirement already satisfied: munch in c:\\users\\chuka\\onedrive\\documents\\anaconda2\\lib\\site-packages (from fiona>=1.8->geopandas>=0.5.0->keplergl) (2.5.0)\n",
      "Requirement already satisfied: matplotlib-inline>=0.1 in c:\\users\\chuka\\onedrive\\documents\\anaconda2\\lib\\site-packages (from ipykernel>=4.5.1->ipywidgets<8,>=7.0.0->keplergl) (0.1.6)\n",
      "Requirement already satisfied: debugpy>=1.0 in c:\\users\\chuka\\onedrive\\documents\\anaconda2\\lib\\site-packages (from ipykernel>=4.5.1->ipywidgets<8,>=7.0.0->keplergl) (1.5.1)\n",
      "Requirement already satisfied: pyzmq>=17 in c:\\users\\chuka\\onedrive\\documents\\anaconda2\\lib\\site-packages (from ipykernel>=4.5.1->ipywidgets<8,>=7.0.0->keplergl) (23.2.0)\n",
      "Requirement already satisfied: nest-asyncio in c:\\users\\chuka\\onedrive\\documents\\anaconda2\\lib\\site-packages (from ipykernel>=4.5.1->ipywidgets<8,>=7.0.0->keplergl) (1.5.5)\n",
      "Requirement already satisfied: packaging in c:\\users\\chuka\\onedrive\\documents\\anaconda2\\lib\\site-packages (from ipykernel>=4.5.1->ipywidgets<8,>=7.0.0->keplergl) (21.3)\n",
      "Requirement already satisfied: psutil in c:\\users\\chuka\\onedrive\\documents\\anaconda2\\lib\\site-packages (from ipykernel>=4.5.1->ipywidgets<8,>=7.0.0->keplergl) (5.9.0)\n",
      "Requirement already satisfied: tornado>=6.1 in c:\\users\\chuka\\onedrive\\documents\\anaconda2\\lib\\site-packages (from ipykernel>=4.5.1->ipywidgets<8,>=7.0.0->keplergl) (6.1)\n",
      "Requirement already satisfied: jupyter-client>=6.1.12 in c:\\users\\chuka\\onedrive\\documents\\anaconda2\\lib\\site-packages (from ipykernel>=4.5.1->ipywidgets<8,>=7.0.0->keplergl) (7.3.4)\n",
      "Requirement already satisfied: jedi>=0.16 in c:\\users\\chuka\\onedrive\\documents\\anaconda2\\lib\\site-packages (from ipython>=4.0.0->ipywidgets<8,>=7.0.0->keplergl) (0.18.1)\n",
      "Requirement already satisfied: pickleshare in c:\\users\\chuka\\onedrive\\documents\\anaconda2\\lib\\site-packages (from ipython>=4.0.0->ipywidgets<8,>=7.0.0->keplergl) (0.7.5)\n",
      "Requirement already satisfied: pygments in c:\\users\\chuka\\onedrive\\documents\\anaconda2\\lib\\site-packages (from ipython>=4.0.0->ipywidgets<8,>=7.0.0->keplergl) (2.11.2)\n",
      "Requirement already satisfied: setuptools>=18.5 in c:\\users\\chuka\\onedrive\\documents\\anaconda2\\lib\\site-packages (from ipython>=4.0.0->ipywidgets<8,>=7.0.0->keplergl) (63.4.1)\n",
      "Requirement already satisfied: prompt-toolkit!=3.0.0,!=3.0.1,<3.1.0,>=2.0.0 in c:\\users\\chuka\\onedrive\\documents\\anaconda2\\lib\\site-packages (from ipython>=4.0.0->ipywidgets<8,>=7.0.0->keplergl) (3.0.20)\n",
      "Requirement already satisfied: decorator in c:\\users\\chuka\\onedrive\\documents\\anaconda2\\lib\\site-packages (from ipython>=4.0.0->ipywidgets<8,>=7.0.0->keplergl) (5.1.1)\n",
      "Requirement already satisfied: colorama in c:\\users\\chuka\\onedrive\\documents\\anaconda2\\lib\\site-packages (from ipython>=4.0.0->ipywidgets<8,>=7.0.0->keplergl) (0.4.5)\n",
      "Requirement already satisfied: backcall in c:\\users\\chuka\\onedrive\\documents\\anaconda2\\lib\\site-packages (from ipython>=4.0.0->ipywidgets<8,>=7.0.0->keplergl) (0.2.0)\n",
      "Requirement already satisfied: fastjsonschema in c:\\users\\chuka\\onedrive\\documents\\anaconda2\\lib\\site-packages (from nbformat>=4.2.0->ipywidgets<8,>=7.0.0->keplergl) (2.16.2)\n",
      "Requirement already satisfied: jupyter_core in c:\\users\\chuka\\onedrive\\documents\\anaconda2\\lib\\site-packages (from nbformat>=4.2.0->ipywidgets<8,>=7.0.0->keplergl) (4.11.1)\n",
      "Requirement already satisfied: jsonschema>=2.6 in c:\\users\\chuka\\onedrive\\documents\\anaconda2\\lib\\site-packages (from nbformat>=4.2.0->ipywidgets<8,>=7.0.0->keplergl) (4.16.0)\n",
      "Requirement already satisfied: notebook>=4.4.1 in c:\\users\\chuka\\onedrive\\documents\\anaconda2\\lib\\site-packages (from widgetsnbextension~=3.5.0->ipywidgets<8,>=7.0.0->keplergl) (6.4.12)\n",
      "Requirement already satisfied: parso<0.9.0,>=0.8.0 in c:\\users\\chuka\\onedrive\\documents\\anaconda2\\lib\\site-packages (from jedi>=0.16->ipython>=4.0.0->ipywidgets<8,>=7.0.0->keplergl) (0.8.3)\n",
      "Requirement already satisfied: pyrsistent!=0.17.0,!=0.17.1,!=0.17.2,>=0.14.0 in c:\\users\\chuka\\onedrive\\documents\\anaconda2\\lib\\site-packages (from jsonschema>=2.6->nbformat>=4.2.0->ipywidgets<8,>=7.0.0->keplergl) (0.18.0)\n",
      "Requirement already satisfied: entrypoints in c:\\users\\chuka\\onedrive\\documents\\anaconda2\\lib\\site-packages (from jupyter-client>=6.1.12->ipykernel>=4.5.1->ipywidgets<8,>=7.0.0->keplergl) (0.4)\n",
      "Requirement already satisfied: pywin32>=1.0 in c:\\users\\chuka\\onedrive\\documents\\anaconda2\\lib\\site-packages (from jupyter_core->nbformat>=4.2.0->ipywidgets<8,>=7.0.0->keplergl) (302)\n",
      "Requirement already satisfied: jinja2 in c:\\users\\chuka\\onedrive\\documents\\anaconda2\\lib\\site-packages (from notebook>=4.4.1->widgetsnbextension~=3.5.0->ipywidgets<8,>=7.0.0->keplergl) (2.11.3)\n",
      "Requirement already satisfied: nbconvert>=5 in c:\\users\\chuka\\onedrive\\documents\\anaconda2\\lib\\site-packages (from notebook>=4.4.1->widgetsnbextension~=3.5.0->ipywidgets<8,>=7.0.0->keplergl) (6.4.4)\n",
      "Requirement already satisfied: prometheus-client in c:\\users\\chuka\\onedrive\\documents\\anaconda2\\lib\\site-packages (from notebook>=4.4.1->widgetsnbextension~=3.5.0->ipywidgets<8,>=7.0.0->keplergl) (0.14.1)\n",
      "Requirement already satisfied: argon2-cffi in c:\\users\\chuka\\onedrive\\documents\\anaconda2\\lib\\site-packages (from notebook>=4.4.1->widgetsnbextension~=3.5.0->ipywidgets<8,>=7.0.0->keplergl) (21.3.0)\n",
      "Requirement already satisfied: terminado>=0.8.3 in c:\\users\\chuka\\onedrive\\documents\\anaconda2\\lib\\site-packages (from notebook>=4.4.1->widgetsnbextension~=3.5.0->ipywidgets<8,>=7.0.0->keplergl) (0.13.1)\n",
      "Requirement already satisfied: Send2Trash>=1.8.0 in c:\\users\\chuka\\onedrive\\documents\\anaconda2\\lib\\site-packages (from notebook>=4.4.1->widgetsnbextension~=3.5.0->ipywidgets<8,>=7.0.0->keplergl) (1.8.0)\n",
      "Requirement already satisfied: wcwidth in c:\\users\\chuka\\onedrive\\documents\\anaconda2\\lib\\site-packages (from prompt-toolkit!=3.0.0,!=3.0.1,<3.1.0,>=2.0.0->ipython>=4.0.0->ipywidgets<8,>=7.0.0->keplergl) (0.2.5)\n",
      "Requirement already satisfied: pyparsing!=3.0.5,>=2.0.2 in c:\\users\\chuka\\onedrive\\documents\\anaconda2\\lib\\site-packages (from packaging->ipykernel>=4.5.1->ipywidgets<8,>=7.0.0->keplergl) (3.0.9)\n",
      "Requirement already satisfied: jupyterlab-pygments in c:\\users\\chuka\\onedrive\\documents\\anaconda2\\lib\\site-packages (from nbconvert>=5->notebook>=4.4.1->widgetsnbextension~=3.5.0->ipywidgets<8,>=7.0.0->keplergl) (0.1.2)\n",
      "Requirement already satisfied: testpath in c:\\users\\chuka\\onedrive\\documents\\anaconda2\\lib\\site-packages (from nbconvert>=5->notebook>=4.4.1->widgetsnbextension~=3.5.0->ipywidgets<8,>=7.0.0->keplergl) (0.6.0)\n",
      "Requirement already satisfied: bleach in c:\\users\\chuka\\onedrive\\documents\\anaconda2\\lib\\site-packages (from nbconvert>=5->notebook>=4.4.1->widgetsnbextension~=3.5.0->ipywidgets<8,>=7.0.0->keplergl) (4.1.0)\n",
      "Requirement already satisfied: defusedxml in c:\\users\\chuka\\onedrive\\documents\\anaconda2\\lib\\site-packages (from nbconvert>=5->notebook>=4.4.1->widgetsnbextension~=3.5.0->ipywidgets<8,>=7.0.0->keplergl) (0.7.1)\n",
      "Requirement already satisfied: nbclient<0.6.0,>=0.5.0 in c:\\users\\chuka\\onedrive\\documents\\anaconda2\\lib\\site-packages (from nbconvert>=5->notebook>=4.4.1->widgetsnbextension~=3.5.0->ipywidgets<8,>=7.0.0->keplergl) (0.5.13)\n",
      "Requirement already satisfied: pandocfilters>=1.4.1 in c:\\users\\chuka\\onedrive\\documents\\anaconda2\\lib\\site-packages (from nbconvert>=5->notebook>=4.4.1->widgetsnbextension~=3.5.0->ipywidgets<8,>=7.0.0->keplergl) (1.5.0)\n",
      "Requirement already satisfied: beautifulsoup4 in c:\\users\\chuka\\onedrive\\documents\\anaconda2\\lib\\site-packages (from nbconvert>=5->notebook>=4.4.1->widgetsnbextension~=3.5.0->ipywidgets<8,>=7.0.0->keplergl) (4.11.1)\n",
      "Requirement already satisfied: mistune<2,>=0.8.1 in c:\\users\\chuka\\onedrive\\documents\\anaconda2\\lib\\site-packages (from nbconvert>=5->notebook>=4.4.1->widgetsnbextension~=3.5.0->ipywidgets<8,>=7.0.0->keplergl) (0.8.4)\n",
      "Requirement already satisfied: MarkupSafe>=0.23 in c:\\users\\chuka\\onedrive\\documents\\anaconda2\\lib\\site-packages (from jinja2->notebook>=4.4.1->widgetsnbextension~=3.5.0->ipywidgets<8,>=7.0.0->keplergl) (2.0.1)\n",
      "Requirement already satisfied: pywinpty>=1.1.0 in c:\\users\\chuka\\onedrive\\documents\\anaconda2\\lib\\site-packages (from terminado>=0.8.3->notebook>=4.4.1->widgetsnbextension~=3.5.0->ipywidgets<8,>=7.0.0->keplergl) (2.0.2)\n",
      "Requirement already satisfied: argon2-cffi-bindings in c:\\users\\chuka\\onedrive\\documents\\anaconda2\\lib\\site-packages (from argon2-cffi->notebook>=4.4.1->widgetsnbextension~=3.5.0->ipywidgets<8,>=7.0.0->keplergl) (21.2.0)\n",
      "Requirement already satisfied: cffi>=1.0.1 in c:\\users\\chuka\\onedrive\\documents\\anaconda2\\lib\\site-packages (from argon2-cffi-bindings->argon2-cffi->notebook>=4.4.1->widgetsnbextension~=3.5.0->ipywidgets<8,>=7.0.0->keplergl) (1.15.1)\n",
      "Requirement already satisfied: soupsieve>1.2 in c:\\users\\chuka\\onedrive\\documents\\anaconda2\\lib\\site-packages (from beautifulsoup4->nbconvert>=5->notebook>=4.4.1->widgetsnbextension~=3.5.0->ipywidgets<8,>=7.0.0->keplergl) (2.3.1)\n",
      "Requirement already satisfied: webencodings in c:\\users\\chuka\\onedrive\\documents\\anaconda2\\lib\\site-packages (from bleach->nbconvert>=5->notebook>=4.4.1->widgetsnbextension~=3.5.0->ipywidgets<8,>=7.0.0->keplergl) (0.5.1)\n",
      "Requirement already satisfied: pycparser in c:\\users\\chuka\\onedrive\\documents\\anaconda2\\lib\\site-packages (from cffi>=1.0.1->argon2-cffi-bindings->argon2-cffi->notebook>=4.4.1->widgetsnbextension~=3.5.0->ipywidgets<8,>=7.0.0->keplergl) (2.21)\n"
     ]
    }
   ],
   "source": [
    "#first we are going to install keplergl\n",
    "!pip install keplergl"
   ]
  },
  {
   "cell_type": "code",
   "execution_count": 2,
   "id": "61d71cbd",
   "metadata": {},
   "outputs": [],
   "source": [
    "#Lets import other important libraries we are going to need\n",
    "import geopandas as gpd\n",
    "import matplotlib.pyplot as plt\n",
    "import pandas as pd\n",
    "import numpy as np\n",
    "from pandas import read_excel "
   ]
  },
  {
   "cell_type": "code",
   "execution_count": 3,
   "id": "fa56677d",
   "metadata": {},
   "outputs": [
    {
     "name": "stdout",
     "output_type": "stream",
     "text": [
      "   VendorID        tpep_pickup_datetime       tpep_dropoff_datetime  \\\n",
      "0         2  2015-01-15 19:05:39 +00:00  2015-01-15 19:23:42 +00:00   \n",
      "1         2  2015-01-15 19:05:39 +00:00  2015-01-15 19:32:00 +00:00   \n",
      "2         2  2015-01-15 19:05:40 +00:00  2015-01-15 19:21:00 +00:00   \n",
      "3         2  2015-01-15 19:05:40 +00:00  2015-01-15 19:28:18 +00:00   \n",
      "4         2  2015-01-15 19:05:41 +00:00  2015-01-15 19:20:36 +00:00   \n",
      "\n",
      "   passenger_count  trip_distance  pickup_longitude  pickup_latitude  \\\n",
      "0                1           1.59        -73.993896        40.750111   \n",
      "1                1           2.38        -73.976425        40.739811   \n",
      "2                5           2.83        -73.968704        40.754246   \n",
      "3                5           8.33        -73.863060        40.769581   \n",
      "4                1           2.37        -73.945541        40.779423   \n",
      "\n",
      "   dropoff_longitude  dropoff_latitude  fare_amount  tip_amount  total_amount  \n",
      "0         -73.974785         40.750618         12.0        3.25         17.05  \n",
      "1         -73.983978         40.757889         16.5        4.38         22.68  \n",
      "2         -73.955124         40.786858         12.5        0.00         14.30  \n",
      "3         -73.952713         40.785782         26.0        8.08         41.21  \n",
      "4         -73.980850         40.786083         11.5        0.00         13.30  \n"
     ]
    }
   ],
   "source": [
    "from pandas import read_excel\n",
    "#the data can be found -> https://github.com/uber-web/kepler.gl-data/tree/master/nyctrips\n",
    "my_sheet = 'Book1'\n",
    "file_name = 'Book1.xlsx' \n",
    "df = read_excel(file_name, sheet_name = my_sheet)\n",
    "print(df.head()) # shows headers with top 5 rows"
   ]
  },
  {
   "cell_type": "code",
   "execution_count": 4,
   "id": "ef115d36",
   "metadata": {},
   "outputs": [
    {
     "data": {
      "text/plain": [
       "Index(['VendorID', 'tpep_pickup_datetime', 'tpep_dropoff_datetime',\n",
       "       'passenger_count', 'trip_distance', 'pickup_longitude',\n",
       "       'pickup_latitude', 'dropoff_longitude', 'dropoff_latitude',\n",
       "       'fare_amount', 'tip_amount', 'total_amount'],\n",
       "      dtype='object')"
      ]
     },
     "execution_count": 4,
     "metadata": {},
     "output_type": "execute_result"
    }
   ],
   "source": [
    "#Let’s see the columns we have in our dataset:\n",
    "df.columns"
   ]
  },
  {
   "cell_type": "code",
   "execution_count": 5,
   "id": "4381f261",
   "metadata": {},
   "outputs": [
    {
     "data": {
      "text/plain": [
       "VendorID                 0\n",
       "tpep_pickup_datetime     0\n",
       "tpep_dropoff_datetime    0\n",
       "passenger_count          0\n",
       "trip_distance            0\n",
       "pickup_longitude         0\n",
       "pickup_latitude          0\n",
       "dropoff_longitude        0\n",
       "dropoff_latitude         0\n",
       "fare_amount              0\n",
       "tip_amount               0\n",
       "total_amount             0\n",
       "dtype: int64"
      ]
     },
     "execution_count": 5,
     "metadata": {},
     "output_type": "execute_result"
    }
   ],
   "source": [
    "#lets check for null values\n",
    "df.isnull().sum()"
   ]
  },
  {
   "cell_type": "markdown",
   "id": "e9ccb4b4",
   "metadata": {},
   "source": [
    "### Plotting base map"
   ]
  },
  {
   "cell_type": "code",
   "execution_count": 6,
   "id": "3a04ff8f",
   "metadata": {},
   "outputs": [
    {
     "name": "stdout",
     "output_type": "stream",
     "text": [
      "User Guide: https://docs.kepler.gl/docs/keplergl-jupyter\n"
     ]
    },
    {
     "data": {
      "application/vnd.jupyter.widget-view+json": {
       "model_id": "619f1000f3714b90971332ed7ca14c67",
       "version_major": 2,
       "version_minor": 0
      },
      "text/plain": [
       "KeplerGl(height=500)"
      ]
     },
     "metadata": {},
     "output_type": "display_data"
    }
   ],
   "source": [
    "# For creating maps using kepler.gl, we first have to create a map object using KeplerGl() class. This can take 3 arguments – height (optional), data (optional) and config (optional). \n",
    "from keplergl import KeplerGl\n",
    "mapNY=KeplerGl(height=500)\n",
    "mapNY"
   ]
  },
  {
   "cell_type": "code",
   "execution_count": 7,
   "id": "10377cdd",
   "metadata": {},
   "outputs": [],
   "source": [
    "#Data can be added to a kepler.gl map by using the add_data() method of the map object. The name argument is used for assigning the name to the dataset in the configuration of the map\n",
    "mapNY.add_data(data=df,name='New York City Taxi Trips')"
   ]
  },
  {
   "cell_type": "markdown",
   "id": "f3cdda3f",
   "metadata": {},
   "source": [
    "## customizing maps\n",
    "Layers, Filters, Interactions, Base map can customized and used performing data analysis.\n",
    "They can be maunally done in the interface\n",
    "\n"
   ]
  },
  {
   "cell_type": "code",
   "execution_count": null,
   "id": "9fbe7ba8",
   "metadata": {},
   "outputs": [],
   "source": []
  }
 ],
 "metadata": {
  "kernelspec": {
   "display_name": "Python 3 (ipykernel)",
   "language": "python",
   "name": "python3"
  },
  "language_info": {
   "codemirror_mode": {
    "name": "ipython",
    "version": 3
   },
   "file_extension": ".py",
   "mimetype": "text/x-python",
   "name": "python",
   "nbconvert_exporter": "python",
   "pygments_lexer": "ipython3",
   "version": "3.9.13"
  }
 },
 "nbformat": 4,
 "nbformat_minor": 5
}
